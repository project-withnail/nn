{
 "cells": [
  {
   "cell_type": "code",
   "execution_count": 2,
   "metadata": {},
   "outputs": [],
   "source": [
    "import pandas as pd\n",
    "\n",
    "df = pd.read_csv('adult.data.csv')"
   ]
  },
  {
   "cell_type": "markdown",
   "metadata": {},
   "source": [
    "### 1. Скільки чоловіків і жінок (ознака sex) представлено в цьому наборі даних?"
   ]
  },
  {
   "cell_type": "code",
   "execution_count": 3,
   "metadata": {},
   "outputs": [
    {
     "data": {
      "text/plain": [
       "Male      21790\n",
       "Female    10771\n",
       "Name: sex, dtype: int64"
      ]
     },
     "execution_count": 3,
     "metadata": {},
     "output_type": "execute_result"
    }
   ],
   "source": [
    "df['sex'].value_counts()"
   ]
  },
  {
   "cell_type": "markdown",
   "metadata": {},
   "source": [
    "### 2. Який середній вік (ознака age) жінок?"
   ]
  },
  {
   "cell_type": "code",
   "execution_count": 4,
   "metadata": {},
   "outputs": [
    {
     "name": "stdout",
     "output_type": "stream",
     "text": [
      "36.9\n"
     ]
    }
   ],
   "source": [
    "#female_mean_age = df[df['sex'] == 'Female'].age.mean()\n",
    "#female_mean_age = df.query('sex == \"Female\"').age.mean()\n",
    "female_mean_age = df[df['sex'].eq('Female')].age.mean()\n",
    "female_mean_age = round(female_mean_age, 1)\n",
    "print(female_mean_age)"
   ]
  },
  {
   "cell_type": "markdown",
   "metadata": {},
   "source": [
    "### 3. Яка частка громадян Німеччини (ознака native-country)?"
   ]
  },
  {
   "cell_type": "code",
   "execution_count": 5,
   "metadata": {},
   "outputs": [
    {
     "name": "stdout",
     "output_type": "stream",
     "text": [
      "0.42\n"
     ]
    }
   ],
   "source": [
    "persentage_of_germans = df[df['native-country'].eq('Germany')].shape[0] * 100 / df.shape[0]\n",
    "persentage_of_germans = round(persentage_of_germans, 2)\n",
    "print(persentage_of_germans)"
   ]
  },
  {
   "cell_type": "markdown",
   "metadata": {},
   "source": [
    "### 4. Які середні значення і середньоквадратичні відхилення віку тих, хто отримує більше 50K в рік (ознака salary) і тих, хто отримує менше 50K в рік?"
   ]
  },
  {
   "cell_type": "code",
   "execution_count": 6,
   "metadata": {},
   "outputs": [
    {
     "name": "stdout",
     "output_type": "stream",
     "text": [
      "mean age of people with low salary: 36.78\n",
      "age standard deviation of people with low salary: 14.02\n",
      "\n",
      "mean age of people with high salary: 44.25\n",
      "age standard deviation of people with high salary: 10.52\n"
     ]
    }
   ],
   "source": [
    "mean_age_of_people_with_low_salary = df[df['salary'].eq('<=50K')].age.mean()\n",
    "mean_age_of_people_with_high_salary = df[df['salary'].eq('>50K')].age.mean()\n",
    "age_standard_deviation_of_people_with_low_salary = df[df['salary'].eq('<=50K')].age.std()\n",
    "age_standard_deviation_of_people_with_high_salary = df[df['salary'].eq('>50K')].age.std()\n",
    "\n",
    "print('mean age of people with low salary: ' + str(round(mean_age_of_people_with_low_salary, 2)))\n",
    "print('age standard deviation of people with low salary: ' + str(round(age_standard_deviation_of_people_with_low_salary, 2)) + '\\n')\n",
    "print('mean age of people with high salary: ' + str(round(mean_age_of_people_with_high_salary, 2)))\n",
    "print('age standard deviation of people with high salary: ' + str(round(age_standard_deviation_of_people_with_high_salary, 2)))"
   ]
  },
  {
   "cell_type": "markdown",
   "metadata": {},
   "source": [
    "### 5. Чи правда, що люди, які отримують більше 50k, мають як мінімум вищу освіту? (Ознака education - Bachelors, Prof-school, Assoc-acdm, Assoc-voc, Masters або Doctorate)"
   ]
  },
  {
   "cell_type": "code",
   "execution_count": 7,
   "metadata": {},
   "outputs": [
    {
     "name": "stdout",
     "output_type": "stream",
     "text": [
      "number of people with high salary and withot higher education: 3306\n",
      "The answer to the question #5 is: NO\n"
     ]
    }
   ],
   "source": [
    "high_salary = df[df['salary'].eq('>50K')]\n",
    "high_salary_and_higher_education = high_salary[high_salary['education'].isin(['Bachelors', 'Prof-school', 'Assoc-acdm', 'Assoc-voc', 'Masters', 'Doctorate'])]\n",
    "\n",
    "\n",
    "print('number of people with high salary and withot higher education: ' + str(high_salary.shape[0] - high_salary_and_higher_education.shape[0]))\n",
    "print('The answer to the question #5 is: NO')"
   ]
  },
  {
   "cell_type": "markdown",
   "metadata": {},
   "source": [
    "### 6. Виведіть статистику віку для кожної раси (ознака race) і кожної статі. Використовуйте groupby і describe. Знайдіть таким чином максимальний вік чоловіків раси Amer-Indian-Eskimo."
   ]
  },
  {
   "cell_type": "code",
   "execution_count": 8,
   "metadata": {},
   "outputs": [
    {
     "name": "stdout",
     "output_type": "stream",
     "text": [
      "Max age of Amer-Indian-Eskimo man is: 82 as it is shown in table\n"
     ]
    },
    {
     "data": {
      "text/html": [
       "<div>\n",
       "<style scoped>\n",
       "    .dataframe tbody tr th:only-of-type {\n",
       "        vertical-align: middle;\n",
       "    }\n",
       "\n",
       "    .dataframe tbody tr th {\n",
       "        vertical-align: top;\n",
       "    }\n",
       "\n",
       "    .dataframe thead th {\n",
       "        text-align: right;\n",
       "    }\n",
       "</style>\n",
       "<table border=\"1\" class=\"dataframe\">\n",
       "  <thead>\n",
       "    <tr style=\"text-align: right;\">\n",
       "      <th></th>\n",
       "      <th></th>\n",
       "      <th>count</th>\n",
       "      <th>mean</th>\n",
       "      <th>std</th>\n",
       "      <th>min</th>\n",
       "      <th>25%</th>\n",
       "      <th>50%</th>\n",
       "      <th>75%</th>\n",
       "      <th>max</th>\n",
       "    </tr>\n",
       "    <tr>\n",
       "      <th>race</th>\n",
       "      <th>sex</th>\n",
       "      <th></th>\n",
       "      <th></th>\n",
       "      <th></th>\n",
       "      <th></th>\n",
       "      <th></th>\n",
       "      <th></th>\n",
       "      <th></th>\n",
       "      <th></th>\n",
       "    </tr>\n",
       "  </thead>\n",
       "  <tbody>\n",
       "    <tr>\n",
       "      <th rowspan=\"2\" valign=\"top\">Amer-Indian-Eskimo</th>\n",
       "      <th>Female</th>\n",
       "      <td>119.0</td>\n",
       "      <td>37.117647</td>\n",
       "      <td>13.114991</td>\n",
       "      <td>17.0</td>\n",
       "      <td>27.0</td>\n",
       "      <td>36.0</td>\n",
       "      <td>46.00</td>\n",
       "      <td>80.0</td>\n",
       "    </tr>\n",
       "    <tr>\n",
       "      <th>Male</th>\n",
       "      <td>192.0</td>\n",
       "      <td>37.208333</td>\n",
       "      <td>12.049563</td>\n",
       "      <td>17.0</td>\n",
       "      <td>28.0</td>\n",
       "      <td>35.0</td>\n",
       "      <td>45.00</td>\n",
       "      <td>82.0</td>\n",
       "    </tr>\n",
       "    <tr>\n",
       "      <th rowspan=\"2\" valign=\"top\">Asian-Pac-Islander</th>\n",
       "      <th>Female</th>\n",
       "      <td>346.0</td>\n",
       "      <td>35.089595</td>\n",
       "      <td>12.300845</td>\n",
       "      <td>17.0</td>\n",
       "      <td>25.0</td>\n",
       "      <td>33.0</td>\n",
       "      <td>43.75</td>\n",
       "      <td>75.0</td>\n",
       "    </tr>\n",
       "    <tr>\n",
       "      <th>Male</th>\n",
       "      <td>693.0</td>\n",
       "      <td>39.073593</td>\n",
       "      <td>12.883944</td>\n",
       "      <td>18.0</td>\n",
       "      <td>29.0</td>\n",
       "      <td>37.0</td>\n",
       "      <td>46.00</td>\n",
       "      <td>90.0</td>\n",
       "    </tr>\n",
       "    <tr>\n",
       "      <th rowspan=\"2\" valign=\"top\">Black</th>\n",
       "      <th>Female</th>\n",
       "      <td>1555.0</td>\n",
       "      <td>37.854019</td>\n",
       "      <td>12.637197</td>\n",
       "      <td>17.0</td>\n",
       "      <td>28.0</td>\n",
       "      <td>37.0</td>\n",
       "      <td>46.00</td>\n",
       "      <td>90.0</td>\n",
       "    </tr>\n",
       "    <tr>\n",
       "      <th>Male</th>\n",
       "      <td>1569.0</td>\n",
       "      <td>37.682600</td>\n",
       "      <td>12.882612</td>\n",
       "      <td>17.0</td>\n",
       "      <td>27.0</td>\n",
       "      <td>36.0</td>\n",
       "      <td>46.00</td>\n",
       "      <td>90.0</td>\n",
       "    </tr>\n",
       "    <tr>\n",
       "      <th rowspan=\"2\" valign=\"top\">Other</th>\n",
       "      <th>Female</th>\n",
       "      <td>109.0</td>\n",
       "      <td>31.678899</td>\n",
       "      <td>11.631599</td>\n",
       "      <td>17.0</td>\n",
       "      <td>23.0</td>\n",
       "      <td>29.0</td>\n",
       "      <td>39.00</td>\n",
       "      <td>74.0</td>\n",
       "    </tr>\n",
       "    <tr>\n",
       "      <th>Male</th>\n",
       "      <td>162.0</td>\n",
       "      <td>34.654321</td>\n",
       "      <td>11.355531</td>\n",
       "      <td>17.0</td>\n",
       "      <td>26.0</td>\n",
       "      <td>32.0</td>\n",
       "      <td>42.00</td>\n",
       "      <td>77.0</td>\n",
       "    </tr>\n",
       "    <tr>\n",
       "      <th rowspan=\"2\" valign=\"top\">White</th>\n",
       "      <th>Female</th>\n",
       "      <td>8642.0</td>\n",
       "      <td>36.811618</td>\n",
       "      <td>14.329093</td>\n",
       "      <td>17.0</td>\n",
       "      <td>25.0</td>\n",
       "      <td>35.0</td>\n",
       "      <td>46.00</td>\n",
       "      <td>90.0</td>\n",
       "    </tr>\n",
       "    <tr>\n",
       "      <th>Male</th>\n",
       "      <td>19174.0</td>\n",
       "      <td>39.652498</td>\n",
       "      <td>13.436029</td>\n",
       "      <td>17.0</td>\n",
       "      <td>29.0</td>\n",
       "      <td>38.0</td>\n",
       "      <td>49.00</td>\n",
       "      <td>90.0</td>\n",
       "    </tr>\n",
       "  </tbody>\n",
       "</table>\n",
       "</div>"
      ],
      "text/plain": [
       "                             count       mean        std   min   25%   50%  \\\n",
       "race               sex                                                       \n",
       "Amer-Indian-Eskimo Female    119.0  37.117647  13.114991  17.0  27.0  36.0   \n",
       "                   Male      192.0  37.208333  12.049563  17.0  28.0  35.0   \n",
       "Asian-Pac-Islander Female    346.0  35.089595  12.300845  17.0  25.0  33.0   \n",
       "                   Male      693.0  39.073593  12.883944  18.0  29.0  37.0   \n",
       "Black              Female   1555.0  37.854019  12.637197  17.0  28.0  37.0   \n",
       "                   Male     1569.0  37.682600  12.882612  17.0  27.0  36.0   \n",
       "Other              Female    109.0  31.678899  11.631599  17.0  23.0  29.0   \n",
       "                   Male      162.0  34.654321  11.355531  17.0  26.0  32.0   \n",
       "White              Female   8642.0  36.811618  14.329093  17.0  25.0  35.0   \n",
       "                   Male    19174.0  39.652498  13.436029  17.0  29.0  38.0   \n",
       "\n",
       "                             75%   max  \n",
       "race               sex                  \n",
       "Amer-Indian-Eskimo Female  46.00  80.0  \n",
       "                   Male    45.00  82.0  \n",
       "Asian-Pac-Islander Female  43.75  75.0  \n",
       "                   Male    46.00  90.0  \n",
       "Black              Female  46.00  90.0  \n",
       "                   Male    46.00  90.0  \n",
       "Other              Female  39.00  74.0  \n",
       "                   Male    42.00  77.0  \n",
       "White              Female  46.00  90.0  \n",
       "                   Male    49.00  90.0  "
      ]
     },
     "execution_count": 8,
     "metadata": {},
     "output_type": "execute_result"
    }
   ],
   "source": [
    "age_stats_by_race_and_gender = df.groupby(by=['race', 'sex'])['age'].describe()\n",
    "print('Max age of Amer-Indian-Eskimo man is: 82 as it is shown in table')\n",
    "age_stats_by_race_and_gender"
   ]
  },
  {
   "cell_type": "markdown",
   "metadata": {},
   "source": [
    "### 7. Серед кого більша частка заробляючих багато (> 50K): серед одружених або неодружених чоловіків (ознака marital-status)? Одруженими вважаємо тих, у кого marital-status починається з Married (Married-civ-spouse, Married-spouse-absent або Married-AF-spouse), інших вважаємо холостими."
   ]
  },
  {
   "cell_type": "code",
   "execution_count": 65,
   "metadata": {},
   "outputs": [
    {
     "name": "stdout",
     "output_type": "stream",
     "text": [
      "rich married males percentage: 44.05\n",
      "rich single males percentage: 8.45\n",
      "\n",
      "The answer to the question #7 is: married man earn more money then the single ones\n"
     ]
    }
   ],
   "source": [
    "males = df[df['sex'].eq('Male')]\n",
    "married_males = males[males['marital-status'].str.startswith('Married')]\n",
    "single_males = males[~males['marital-status'].str.startswith('Married')]\n",
    "rich_married_males_percentage = married_males[married_males['salary'].eq('>50K')].shape[0] * 100 / married_males.shape[0]\n",
    "rich_single_males_percentage = single_males[single_males['salary'].eq('>50K')].shape[0] * 100 / single_males.shape[0]\n",
    "print('rich married males percentage: ' + str(round(rich_married_males_percentage, 2)))\n",
    "print('rich single males percentage: ' + str(round(rich_single_males_percentage, 2)))\n",
    "print('\\nThe answer to the question #7 is: married man earn more money then the single ones')"
   ]
  },
  {
   "cell_type": "markdown",
   "metadata": {},
   "source": [
    "### 8. Яка максимальна кількість годин людина працює в тиждень (ознака hours-per- week)? Скільки людей працюють таку кількість годин і який серед них відсоток заробляють багато?"
   ]
  },
  {
   "cell_type": "code",
   "execution_count": 66,
   "metadata": {},
   "outputs": [
    {
     "name": "stdout",
     "output_type": "stream",
     "text": [
      "maximum number of work hours per week is: 99\n",
      "number of people that work 99 hours per week is: 85\n",
      "rich hard workers percentage is: 29.41\n"
     ]
    }
   ],
   "source": [
    "max_hours_per_week = df['hours-per-week'].values.max()\n",
    "print('maximum number of work hours per week is: ' + str(max_hours_per_week))\n",
    "\n",
    "hard_workers = df[df['hours-per-week'].eq(max_hours_per_week)]\n",
    "print('number of people that work ' + str(max_hours_per_week) + ' hours per week is: ' + str(hard_workers.shape[0]))\n",
    "\n",
    "rich_hard_workers_percentage = hard_workers[hard_workers['salary'].eq('>50K')].shape[0] * 100 / hard_workers.shape[0]\n",
    "print('rich hard workers percentage is: ' + str(round(rich_hard_workers_percentage, 2)))"
   ]
  },
  {
   "cell_type": "markdown",
   "metadata": {},
   "source": [
    "### 9. Порахуйте середній час роботи (hours-per-week) тих, хто заробляє мало і багато (salary) для кожної країни (native-country)."
   ]
  },
  {
   "cell_type": "code",
   "execution_count": 87,
   "metadata": {},
   "outputs": [
    {
     "name": "stdout",
     "output_type": "stream",
     "text": [
      "native-country              salary\n",
      "?                           <=50K     40.164760\n",
      "                            >50K      45.547945\n",
      "Cambodia                    <=50K     41.416667\n",
      "                            >50K      40.000000\n",
      "Canada                      <=50K     37.914634\n",
      "                            >50K      45.641026\n",
      "China                       <=50K     37.381818\n",
      "                            >50K      38.900000\n",
      "Columbia                    <=50K     38.684211\n",
      "                            >50K      50.000000\n",
      "Cuba                        <=50K     37.985714\n",
      "                            >50K      42.440000\n",
      "Dominican-Republic          <=50K     42.338235\n",
      "                            >50K      47.000000\n",
      "Ecuador                     <=50K     38.041667\n",
      "                            >50K      48.750000\n",
      "El-Salvador                 <=50K     36.030928\n",
      "                            >50K      45.000000\n",
      "England                     <=50K     40.483333\n",
      "                            >50K      44.533333\n",
      "France                      <=50K     41.058824\n",
      "                            >50K      50.750000\n",
      "Germany                     <=50K     39.139785\n",
      "                            >50K      44.977273\n",
      "Greece                      <=50K     41.809524\n",
      "                            >50K      50.625000\n",
      "Guatemala                   <=50K     39.360656\n",
      "                            >50K      36.666667\n",
      "Haiti                       <=50K     36.325000\n",
      "                            >50K      42.750000\n",
      "Holand-Netherlands          <=50K     40.000000\n",
      "Honduras                    <=50K     34.333333\n",
      "                            >50K      60.000000\n",
      "Hong                        <=50K     39.142857\n",
      "                            >50K      45.000000\n",
      "Hungary                     <=50K     31.300000\n",
      "                            >50K      50.000000\n",
      "India                       <=50K     38.233333\n",
      "                            >50K      46.475000\n",
      "Iran                        <=50K     41.440000\n",
      "                            >50K      47.500000\n",
      "Ireland                     <=50K     40.947368\n",
      "                            >50K      48.000000\n",
      "Italy                       <=50K     39.625000\n",
      "                            >50K      45.400000\n",
      "Jamaica                     <=50K     38.239437\n",
      "                            >50K      41.100000\n",
      "Japan                       <=50K     41.000000\n",
      "                            >50K      47.958333\n",
      "Laos                        <=50K     40.375000\n",
      "                            >50K      40.000000\n",
      "Mexico                      <=50K     40.003279\n",
      "                            >50K      46.575758\n",
      "Nicaragua                   <=50K     36.093750\n",
      "                            >50K      37.500000\n",
      "Outlying-US(Guam-USVI-etc)  <=50K     41.857143\n",
      "Peru                        <=50K     35.068966\n",
      "                            >50K      40.000000\n",
      "Philippines                 <=50K     38.065693\n",
      "                            >50K      43.032787\n",
      "Poland                      <=50K     38.166667\n",
      "                            >50K      39.000000\n",
      "Portugal                    <=50K     41.939394\n",
      "                            >50K      41.500000\n",
      "Puerto-Rico                 <=50K     38.470588\n",
      "                            >50K      39.416667\n",
      "Scotland                    <=50K     39.444444\n",
      "                            >50K      46.666667\n",
      "South                       <=50K     40.156250\n",
      "                            >50K      51.437500\n",
      "Taiwan                      <=50K     33.774194\n",
      "                            >50K      46.800000\n",
      "Thailand                    <=50K     42.866667\n",
      "                            >50K      58.333333\n",
      "Trinadad&Tobago             <=50K     37.058824\n",
      "                            >50K      40.000000\n",
      "United-States               <=50K     38.799127\n",
      "                            >50K      45.505369\n",
      "Vietnam                     <=50K     37.193548\n",
      "                            >50K      39.200000\n",
      "Yugoslavia                  <=50K     41.600000\n",
      "                            >50K      49.500000\n"
     ]
    }
   ],
   "source": [
    "print(df.groupby(by=['native-country', 'salary'])['hours-per-week'].mean().to_string())"
   ]
  }
 ],
 "metadata": {
  "kernelspec": {
   "display_name": "venv",
   "language": "python",
   "name": "venv"
  },
  "language_info": {
   "codemirror_mode": {
    "name": "ipython",
    "version": 3
   },
   "file_extension": ".py",
   "mimetype": "text/x-python",
   "name": "python",
   "nbconvert_exporter": "python",
   "pygments_lexer": "ipython3",
   "version": "3.8.5"
  }
 },
 "nbformat": 4,
 "nbformat_minor": 4
}
